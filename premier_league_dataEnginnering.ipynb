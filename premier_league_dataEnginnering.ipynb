{
  "cells": [
    {
      "cell_type": "code",
      "source": [
        "from google.colab import drive\n",
        "drive.mount('content', force_remount=\"false\")"
      ],
      "metadata": {
        "id": "_uBu6cpuOApm"
      },
      "execution_count": null,
      "outputs": []
    },
    {
      "cell_type": "code",
      "execution_count": 169,
      "metadata": {
        "id": "LsNtOvxJraJF"
      },
      "outputs": [],
      "source": [
        "import pandas as pd\n",
        "data = 'content/MyDrive/E17.csv'\n",
        "df = pd.read_csv(data)"
      ]
    },
    {
      "cell_type": "code",
      "source": [
        "df = df[['HomeTeam', 'AwayTeam', 'FTHG', 'FTAG', 'FTR', 'HTHG', 'HTAG', 'HTR', 'HST', 'AST']]"
      ],
      "metadata": {
        "id": "0oMK9-K0vERU"
      },
      "execution_count": 170,
      "outputs": []
    },
    {
      "cell_type": "code",
      "source": [
        "#to convert eash team name into a number\n",
        "a, b = df.shape\n",
        "for i in range(a):\n",
        "  sum = 0\n",
        "  for character in df.loc[i, 'HomeTeam']:\n",
        "    sum += ord(character)\n",
        "  df.loc[i, 'HomeTeam'] = sum\n",
        "\n",
        "for i in range(a):\n",
        "  sum = 0\n",
        "  for character in df.loc[i, 'AwayTeam']:\n",
        "    sum += ord(character)\n",
        "  df.loc[i, 'AwayTeam'] = sum"
      ],
      "metadata": {
        "id": "3VF-D_3lPqzY"
      },
      "execution_count": 171,
      "outputs": []
    },
    {
      "cell_type": "code",
      "source": [
        "# to convet the fulltime and half time winnings to numbers\n",
        "import numpy as np\n",
        "conditions_FTR = [df['FTR'] == \"H\", df['FTR'] == \"A\", df['FTR'] == \"D\"]\n",
        "choices_FTR = [1, 2, 0]\n",
        "df['FTR'] = np.select(conditions_FTR, choices_FTR)\n",
        "\n",
        "conditions_HTR = [df['HTR'] == \"H\", df['HTR'] == \"A\", df['HTR'] == \"D\"]\n",
        "choices_HTR = [1, 2, 0]\n",
        "df['HTR'] = np.select(conditions_HTR, choices_HTR)"
      ],
      "metadata": {
        "id": "p3-X_cWHXaag"
      },
      "execution_count": 172,
      "outputs": []
    },
    {
      "cell_type": "code",
      "source": [
        "#assign these values to the values before them\n",
        "a, b = df.shape\n",
        "for i in reversed(range(1, a)):\n",
        "  df.loc[i, 'FTHG'] = df.loc[i - 1, 'FTHG']\n",
        "\n",
        "for i in reversed(range(1, a)):\n",
        "  df.loc[i, 'FTAG'] = df.loc[i - 1, 'FTAG']\n",
        "\n",
        "for i in reversed(range(1, a)):\n",
        "  df.loc[i, 'HTHG'] = df.loc[i - 1, 'HTHG']\n",
        "\n",
        "for i in reversed(range(1, a)):\n",
        "  df.loc[i, 'HTAG'] = df.loc[i - 1, 'HTAG']\n",
        "\n",
        "for i in reversed(range(1, a)):\n",
        "  df.loc[i, 'HST'] = df.loc[i - 1, 'HST']\n",
        "\n",
        "for i in reversed(range(1, a)):\n",
        "  df.loc[i, 'AST'] = df.loc[i - 1, 'AST']\n",
        "\n",
        "df.loc[0, 'FTHG'] = 0\n",
        "df.loc[0, 'FTAG'] = 0\n",
        "df.loc[0, 'HTHG'] = 0\n",
        "df.loc[0, 'HTAG'] = 0\n",
        "df.loc[0, 'HST'] = 0\n",
        "df.loc[0, 'AST'] = 0"
      ],
      "metadata": {
        "id": "5XF1bKgIdT7O"
      },
      "execution_count": 173,
      "outputs": []
    },
    {
      "cell_type": "code",
      "source": [
        "from google.colab import files\n",
        "df.to_csv(\"E17_completed.csv\")\n",
        "files.download(\"E17_completed.csv\")"
      ],
      "metadata": {
        "colab": {
          "base_uri": "https://localhost:8080/",
          "height": 17
        },
        "id": "qyuRf1GdmYoI",
        "outputId": "88912e40-263d-407f-b9cb-71cd0f28a22e"
      },
      "execution_count": 174,
      "outputs": [
        {
          "output_type": "display_data",
          "data": {
            "text/plain": [
              "<IPython.core.display.Javascript object>"
            ],
            "application/javascript": [
              "\n",
              "    async function download(id, filename, size) {\n",
              "      if (!google.colab.kernel.accessAllowed) {\n",
              "        return;\n",
              "      }\n",
              "      const div = document.createElement('div');\n",
              "      const label = document.createElement('label');\n",
              "      label.textContent = `Downloading \"${filename}\": `;\n",
              "      div.appendChild(label);\n",
              "      const progress = document.createElement('progress');\n",
              "      progress.max = size;\n",
              "      div.appendChild(progress);\n",
              "      document.body.appendChild(div);\n",
              "\n",
              "      const buffers = [];\n",
              "      let downloaded = 0;\n",
              "\n",
              "      const channel = await google.colab.kernel.comms.open(id);\n",
              "      // Send a message to notify the kernel that we're ready.\n",
              "      channel.send({})\n",
              "\n",
              "      for await (const message of channel.messages) {\n",
              "        // Send a message to notify the kernel that we're ready.\n",
              "        channel.send({})\n",
              "        if (message.buffers) {\n",
              "          for (const buffer of message.buffers) {\n",
              "            buffers.push(buffer);\n",
              "            downloaded += buffer.byteLength;\n",
              "            progress.value = downloaded;\n",
              "          }\n",
              "        }\n",
              "      }\n",
              "      const blob = new Blob(buffers, {type: 'application/binary'});\n",
              "      const a = document.createElement('a');\n",
              "      a.href = window.URL.createObjectURL(blob);\n",
              "      a.download = filename;\n",
              "      div.appendChild(a);\n",
              "      a.click();\n",
              "      div.remove();\n",
              "    }\n",
              "  "
            ]
          },
          "metadata": {}
        },
        {
          "output_type": "display_data",
          "data": {
            "text/plain": [
              "<IPython.core.display.Javascript object>"
            ],
            "application/javascript": [
              "download(\"download_feed285f-1c74-498e-9208-dec5330e2941\", \"E17_completed.csv\", 10831)"
            ]
          },
          "metadata": {}
        }
      ]
    },
    {
      "cell_type": "code",
      "source": [],
      "metadata": {
        "id": "tOYDnt8eok0y"
      },
      "execution_count": null,
      "outputs": []
    }
  ],
  "metadata": {
    "colab": {
      "provenance": []
    },
    "kernelspec": {
      "display_name": "Python 3",
      "name": "python3"
    },
    "language_info": {
      "name": "python"
    }
  },
  "nbformat": 4,
  "nbformat_minor": 0
}